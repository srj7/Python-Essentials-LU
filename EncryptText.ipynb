{
  "nbformat": 4,
  "nbformat_minor": 0,
  "metadata": {
    "colab": {
      "name": "EncryptText.ipynb",
      "provenance": [],
      "authorship_tag": "ABX9TyOSD8xxvFb2/nJANqFX5C14",
      "include_colab_link": true
    },
    "kernelspec": {
      "name": "python3",
      "display_name": "Python 3"
    }
  },
  "cells": [
    {
      "cell_type": "markdown",
      "metadata": {
        "id": "view-in-github",
        "colab_type": "text"
      },
      "source": [
        "<a href=\"https://colab.research.google.com/github/srj7/Python-Essentials-LU/blob/main/EncryptText.ipynb\" target=\"_parent\"><img src=\"https://colab.research.google.com/assets/colab-badge.svg\" alt=\"Open In Colab\"/></a>"
      ]
    },
    {
      "cell_type": "code",
      "metadata": {
        "colab": {
          "base_uri": "https://localhost:8080/"
        },
        "id": "FKwdnj9Ukfm5",
        "outputId": "1c3d1499-9945-4d14-f00a-a5fc50d9744f"
      },
      "source": [
        "pip install cryptography"
      ],
      "execution_count": 2,
      "outputs": [
        {
          "output_type": "stream",
          "text": [
            "Collecting cryptography\n",
            "\u001b[?25l  Downloading https://files.pythonhosted.org/packages/c9/de/7054df0620b5411ba45480f0261e1fb66a53f3db31b28e3aa52c026e72d9/cryptography-3.3.1-cp36-abi3-manylinux2010_x86_64.whl (2.6MB)\n",
            "\u001b[K     |████████████████████████████████| 2.6MB 5.6MB/s \n",
            "\u001b[?25hRequirement already satisfied: cffi>=1.12 in /usr/local/lib/python3.6/dist-packages (from cryptography) (1.14.4)\n",
            "Requirement already satisfied: six>=1.4.1 in /usr/local/lib/python3.6/dist-packages (from cryptography) (1.15.0)\n",
            "Requirement already satisfied: pycparser in /usr/local/lib/python3.6/dist-packages (from cffi>=1.12->cryptography) (2.20)\n",
            "Installing collected packages: cryptography\n",
            "Successfully installed cryptography-3.3.1\n"
          ],
          "name": "stdout"
        }
      ]
    },
    {
      "cell_type": "code",
      "metadata": {
        "id": "pZ-OcFEllMf9"
      },
      "source": [
        "from cryptography.fernet import Fernet"
      ],
      "execution_count": 5,
      "outputs": []
    },
    {
      "cell_type": "code",
      "metadata": {
        "colab": {
          "base_uri": "https://localhost:8080/"
        },
        "id": "1o8grX4uk3VI",
        "outputId": "fe26fc46-b02d-4193-b3f9-9deb603c7d1e"
      },
      "source": [
        "def generateKey():\r\n",
        "    '''\r\n",
        "    generate a Key and Save to file\r\n",
        "    '''\r\n",
        "    key = Fernet.generate_key()\r\n",
        "    key_file = open(\"pass.key\",\"wb\")\r\n",
        "    key_file.write(key)\r\n",
        "\r\n",
        "def load_key():\r\n",
        "    '''\r\n",
        "    Loads the key named secret_key from current Directory \r\n",
        "    '''\r\n",
        "    return open(\"pass.key\",\"rb\").read()\r\n",
        "\r\n",
        "def encrypt_message(message):\r\n",
        "    '''\r\n",
        "    encrypts the message\r\n",
        "    '''\r\n",
        "    generateKey()\r\n",
        "    key = load_key()\r\n",
        "    encoded_message = message.encode()\r\n",
        "    f = Fernet(key)\r\n",
        "    encrypted_message = f.encrypt(encoded_message)\r\n",
        "    print(\"Encrypted Message is:\",encrypted_message)\r\n",
        "    \r\n",
        "message = input(\"Enter text to encrrypt : \")\r\n",
        "encrypt_message(message)"
      ],
      "execution_count": 6,
      "outputs": [
        {
          "output_type": "stream",
          "text": [
            "Enter text to encrrypt : Eda mone\n",
            "Encrypted Message is: b'gAAAAABf3dhmdMOc9hUO2g2mpHLTzlJ7nXbXPwZlf_xaP3Y6zfwU0vn9f7MvAEsCbxSoITKVvxRgoosE_Efpf25yNk38x1FPtg=='\n"
          ],
          "name": "stdout"
        }
      ]
    },
    {
      "cell_type": "code",
      "metadata": {
        "colab": {
          "base_uri": "https://localhost:8080/"
        },
        "id": "7EzX5lXzlfBC",
        "outputId": "63c62aec-5af0-4576-bbaf-636eb4b5ef3d"
      },
      "source": [
        "def  decrypt_message(encrypted_message):\r\n",
        "    '''\r\n",
        "    Decryptes an encrypted message\r\n",
        "    '''\r\n",
        "    key = load_key()\r\n",
        "    f = Fernet(key)\r\n",
        "    decrypted_message = f.decrypt(encrypted_message)\r\n",
        "    print(\"Decrypted message is:\",decrypted_message.decode())\r\n",
        "    \r\n",
        "decrypt_message(b'gAAAAABf3dhmdMOc9hUO2g2mpHLTzlJ7nXbXPwZlf_xaP3Y6zfwU0vn9f7MvAEsCbxSoITKVvxRgoosE_Efpf25yNk38x1FPtg==')"
      ],
      "execution_count": 8,
      "outputs": [
        {
          "output_type": "stream",
          "text": [
            "Decrypted message is: Eda mone\n"
          ],
          "name": "stdout"
        }
      ]
    }
  ]
}